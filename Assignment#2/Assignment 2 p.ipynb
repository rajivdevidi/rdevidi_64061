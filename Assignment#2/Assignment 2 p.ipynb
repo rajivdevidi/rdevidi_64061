{
  "nbformat": 4,
  "nbformat_minor": 0,
  "metadata": {
    "colab": {
      "provenance": []
    },
    "kernelspec": {
      "name": "python3",
      "display_name": "Python 3"
    },
    "language_info": {
      "name": "python"
    }
  },
  "cells": [
    {
      "cell_type": "markdown",
      "source": [
        "Installing the required packages"
      ],
      "metadata": {
        "id": "bDLHVhAadVY2"
      }
    },
    {
      "cell_type": "code",
      "execution_count": 1,
      "metadata": {
        "colab": {
          "base_uri": "https://localhost:8080/"
        },
        "id": "fiGW486nLtWu",
        "outputId": "61b71738-66c3-432b-96d1-d7911077836d"
      },
      "outputs": [
        {
          "output_type": "stream",
          "name": "stdout",
          "text": [
            "Looking in indexes: https://pypi.org/simple, https://us-python.pkg.dev/colab-wheels/public/simple/\n",
            "Requirement already satisfied: tensorflow in /usr/local/lib/python3.8/dist-packages (2.11.0)\n",
            "Requirement already satisfied: numpy>=1.20 in /usr/local/lib/python3.8/dist-packages (from tensorflow) (1.22.4)\n",
            "Requirement already satisfied: libclang>=13.0.0 in /usr/local/lib/python3.8/dist-packages (from tensorflow) (15.0.6.1)\n",
            "Requirement already satisfied: termcolor>=1.1.0 in /usr/local/lib/python3.8/dist-packages (from tensorflow) (2.2.0)\n",
            "Requirement already satisfied: google-pasta>=0.1.1 in /usr/local/lib/python3.8/dist-packages (from tensorflow) (0.2.0)\n",
            "Requirement already satisfied: flatbuffers>=2.0 in /usr/local/lib/python3.8/dist-packages (from tensorflow) (23.1.21)\n",
            "Requirement already satisfied: tensorflow-io-gcs-filesystem>=0.23.1 in /usr/local/lib/python3.8/dist-packages (from tensorflow) (0.31.0)\n",
            "Requirement already satisfied: six>=1.12.0 in /usr/local/lib/python3.8/dist-packages (from tensorflow) (1.15.0)\n",
            "Requirement already satisfied: opt-einsum>=2.3.2 in /usr/local/lib/python3.8/dist-packages (from tensorflow) (3.3.0)\n",
            "Requirement already satisfied: grpcio<2.0,>=1.24.3 in /usr/local/lib/python3.8/dist-packages (from tensorflow) (1.51.3)\n",
            "Requirement already satisfied: astunparse>=1.6.0 in /usr/local/lib/python3.8/dist-packages (from tensorflow) (1.6.3)\n",
            "Requirement already satisfied: tensorflow-estimator<2.12,>=2.11.0 in /usr/local/lib/python3.8/dist-packages (from tensorflow) (2.11.0)\n",
            "Requirement already satisfied: packaging in /usr/local/lib/python3.8/dist-packages (from tensorflow) (23.0)\n",
            "Requirement already satisfied: protobuf<3.20,>=3.9.2 in /usr/local/lib/python3.8/dist-packages (from tensorflow) (3.19.6)\n",
            "Requirement already satisfied: gast<=0.4.0,>=0.2.1 in /usr/local/lib/python3.8/dist-packages (from tensorflow) (0.4.0)\n",
            "Requirement already satisfied: typing-extensions>=3.6.6 in /usr/local/lib/python3.8/dist-packages (from tensorflow) (4.5.0)\n",
            "Requirement already satisfied: h5py>=2.9.0 in /usr/local/lib/python3.8/dist-packages (from tensorflow) (3.1.0)\n",
            "Requirement already satisfied: wrapt>=1.11.0 in /usr/local/lib/python3.8/dist-packages (from tensorflow) (1.15.0)\n",
            "Requirement already satisfied: setuptools in /usr/local/lib/python3.8/dist-packages (from tensorflow) (57.4.0)\n",
            "Requirement already satisfied: tensorboard<2.12,>=2.11 in /usr/local/lib/python3.8/dist-packages (from tensorflow) (2.11.2)\n",
            "Requirement already satisfied: absl-py>=1.0.0 in /usr/local/lib/python3.8/dist-packages (from tensorflow) (1.4.0)\n",
            "Requirement already satisfied: keras<2.12,>=2.11.0 in /usr/local/lib/python3.8/dist-packages (from tensorflow) (2.11.0)\n",
            "Requirement already satisfied: wheel<1.0,>=0.23.0 in /usr/local/lib/python3.8/dist-packages (from astunparse>=1.6.0->tensorflow) (0.38.4)\n",
            "Requirement already satisfied: tensorboard-data-server<0.7.0,>=0.6.0 in /usr/local/lib/python3.8/dist-packages (from tensorboard<2.12,>=2.11->tensorflow) (0.6.1)\n",
            "Requirement already satisfied: google-auth-oauthlib<0.5,>=0.4.1 in /usr/local/lib/python3.8/dist-packages (from tensorboard<2.12,>=2.11->tensorflow) (0.4.6)\n",
            "Requirement already satisfied: markdown>=2.6.8 in /usr/local/lib/python3.8/dist-packages (from tensorboard<2.12,>=2.11->tensorflow) (3.4.1)\n",
            "Requirement already satisfied: requests<3,>=2.21.0 in /usr/local/lib/python3.8/dist-packages (from tensorboard<2.12,>=2.11->tensorflow) (2.25.1)\n",
            "Requirement already satisfied: tensorboard-plugin-wit>=1.6.0 in /usr/local/lib/python3.8/dist-packages (from tensorboard<2.12,>=2.11->tensorflow) (1.8.1)\n",
            "Requirement already satisfied: werkzeug>=1.0.1 in /usr/local/lib/python3.8/dist-packages (from tensorboard<2.12,>=2.11->tensorflow) (2.2.3)\n",
            "Requirement already satisfied: google-auth<3,>=1.6.3 in /usr/local/lib/python3.8/dist-packages (from tensorboard<2.12,>=2.11->tensorflow) (2.16.1)\n",
            "Requirement already satisfied: cachetools<6.0,>=2.0.0 in /usr/local/lib/python3.8/dist-packages (from google-auth<3,>=1.6.3->tensorboard<2.12,>=2.11->tensorflow) (5.3.0)\n",
            "Requirement already satisfied: rsa<5,>=3.1.4 in /usr/local/lib/python3.8/dist-packages (from google-auth<3,>=1.6.3->tensorboard<2.12,>=2.11->tensorflow) (4.9)\n",
            "Requirement already satisfied: pyasn1-modules>=0.2.1 in /usr/local/lib/python3.8/dist-packages (from google-auth<3,>=1.6.3->tensorboard<2.12,>=2.11->tensorflow) (0.2.8)\n",
            "Requirement already satisfied: requests-oauthlib>=0.7.0 in /usr/local/lib/python3.8/dist-packages (from google-auth-oauthlib<0.5,>=0.4.1->tensorboard<2.12,>=2.11->tensorflow) (1.3.1)\n",
            "Requirement already satisfied: importlib-metadata>=4.4 in /usr/local/lib/python3.8/dist-packages (from markdown>=2.6.8->tensorboard<2.12,>=2.11->tensorflow) (6.0.0)\n",
            "Requirement already satisfied: urllib3<1.27,>=1.21.1 in /usr/local/lib/python3.8/dist-packages (from requests<3,>=2.21.0->tensorboard<2.12,>=2.11->tensorflow) (1.26.14)\n",
            "Requirement already satisfied: idna<3,>=2.5 in /usr/local/lib/python3.8/dist-packages (from requests<3,>=2.21.0->tensorboard<2.12,>=2.11->tensorflow) (2.10)\n",
            "Requirement already satisfied: chardet<5,>=3.0.2 in /usr/local/lib/python3.8/dist-packages (from requests<3,>=2.21.0->tensorboard<2.12,>=2.11->tensorflow) (4.0.0)\n",
            "Requirement already satisfied: certifi>=2017.4.17 in /usr/local/lib/python3.8/dist-packages (from requests<3,>=2.21.0->tensorboard<2.12,>=2.11->tensorflow) (2022.12.7)\n",
            "Requirement already satisfied: MarkupSafe>=2.1.1 in /usr/local/lib/python3.8/dist-packages (from werkzeug>=1.0.1->tensorboard<2.12,>=2.11->tensorflow) (2.1.2)\n",
            "Requirement already satisfied: zipp>=0.5 in /usr/local/lib/python3.8/dist-packages (from importlib-metadata>=4.4->markdown>=2.6.8->tensorboard<2.12,>=2.11->tensorflow) (3.15.0)\n",
            "Requirement already satisfied: pyasn1<0.5.0,>=0.4.6 in /usr/local/lib/python3.8/dist-packages (from pyasn1-modules>=0.2.1->google-auth<3,>=1.6.3->tensorboard<2.12,>=2.11->tensorflow) (0.4.8)\n",
            "Requirement already satisfied: oauthlib>=3.0.0 in /usr/local/lib/python3.8/dist-packages (from requests-oauthlib>=0.7.0->google-auth-oauthlib<0.5,>=0.4.1->tensorboard<2.12,>=2.11->tensorflow) (3.2.2)\n"
          ]
        }
      ],
      "source": [
        "pip install tensorflow"
      ]
    },
    {
      "cell_type": "code",
      "source": [
        "pip install keras"
      ],
      "metadata": {
        "colab": {
          "base_uri": "https://localhost:8080/"
        },
        "id": "FaCwzmyWL7qj",
        "outputId": "d7ec5804-7d0f-446c-a20a-545b2c86b0cd"
      },
      "execution_count": 2,
      "outputs": [
        {
          "output_type": "stream",
          "name": "stdout",
          "text": [
            "Looking in indexes: https://pypi.org/simple, https://us-python.pkg.dev/colab-wheels/public/simple/\n",
            "Requirement already satisfied: keras in /usr/local/lib/python3.8/dist-packages (2.11.0)\n"
          ]
        }
      ]
    },
    {
      "cell_type": "markdown",
      "source": [
        "Loading the Dataset"
      ],
      "metadata": {
        "id": "nni94jtbdf8Y"
      }
    },
    {
      "cell_type": "code",
      "source": [
        "from tensorflow.keras.datasets import imdb\n",
        "(train_data, train_labels), (test_data, test_labels) = imdb.load_data(\n",
        "    num_words=10000)"
      ],
      "metadata": {
        "colab": {
          "base_uri": "https://localhost:8080/"
        },
        "id": "3DUsACS1MBDu",
        "outputId": "ce8cd861-391f-4811-fe87-dae768f4e6c1"
      },
      "execution_count": 3,
      "outputs": [
        {
          "output_type": "stream",
          "name": "stdout",
          "text": [
            "Downloading data from https://storage.googleapis.com/tensorflow/tf-keras-datasets/imdb.npz\n",
            "17464789/17464789 [==============================] - 0s 0us/step\n"
          ]
        }
      ]
    },
    {
      "cell_type": "code",
      "source": [
        "train_data[0]"
      ],
      "metadata": {
        "colab": {
          "base_uri": "https://localhost:8080/"
        },
        "id": "-QF1ASUOMDcF",
        "outputId": "2d47a58b-2912-46f8-fe2c-200a63fdda70"
      },
      "execution_count": 4,
      "outputs": [
        {
          "output_type": "execute_result",
          "data": {
            "text/plain": [
              "[1,\n",
              " 14,\n",
              " 22,\n",
              " 16,\n",
              " 43,\n",
              " 530,\n",
              " 973,\n",
              " 1622,\n",
              " 1385,\n",
              " 65,\n",
              " 458,\n",
              " 4468,\n",
              " 66,\n",
              " 3941,\n",
              " 4,\n",
              " 173,\n",
              " 36,\n",
              " 256,\n",
              " 5,\n",
              " 25,\n",
              " 100,\n",
              " 43,\n",
              " 838,\n",
              " 112,\n",
              " 50,\n",
              " 670,\n",
              " 2,\n",
              " 9,\n",
              " 35,\n",
              " 480,\n",
              " 284,\n",
              " 5,\n",
              " 150,\n",
              " 4,\n",
              " 172,\n",
              " 112,\n",
              " 167,\n",
              " 2,\n",
              " 336,\n",
              " 385,\n",
              " 39,\n",
              " 4,\n",
              " 172,\n",
              " 4536,\n",
              " 1111,\n",
              " 17,\n",
              " 546,\n",
              " 38,\n",
              " 13,\n",
              " 447,\n",
              " 4,\n",
              " 192,\n",
              " 50,\n",
              " 16,\n",
              " 6,\n",
              " 147,\n",
              " 2025,\n",
              " 19,\n",
              " 14,\n",
              " 22,\n",
              " 4,\n",
              " 1920,\n",
              " 4613,\n",
              " 469,\n",
              " 4,\n",
              " 22,\n",
              " 71,\n",
              " 87,\n",
              " 12,\n",
              " 16,\n",
              " 43,\n",
              " 530,\n",
              " 38,\n",
              " 76,\n",
              " 15,\n",
              " 13,\n",
              " 1247,\n",
              " 4,\n",
              " 22,\n",
              " 17,\n",
              " 515,\n",
              " 17,\n",
              " 12,\n",
              " 16,\n",
              " 626,\n",
              " 18,\n",
              " 2,\n",
              " 5,\n",
              " 62,\n",
              " 386,\n",
              " 12,\n",
              " 8,\n",
              " 316,\n",
              " 8,\n",
              " 106,\n",
              " 5,\n",
              " 4,\n",
              " 2223,\n",
              " 5244,\n",
              " 16,\n",
              " 480,\n",
              " 66,\n",
              " 3785,\n",
              " 33,\n",
              " 4,\n",
              " 130,\n",
              " 12,\n",
              " 16,\n",
              " 38,\n",
              " 619,\n",
              " 5,\n",
              " 25,\n",
              " 124,\n",
              " 51,\n",
              " 36,\n",
              " 135,\n",
              " 48,\n",
              " 25,\n",
              " 1415,\n",
              " 33,\n",
              " 6,\n",
              " 22,\n",
              " 12,\n",
              " 215,\n",
              " 28,\n",
              " 77,\n",
              " 52,\n",
              " 5,\n",
              " 14,\n",
              " 407,\n",
              " 16,\n",
              " 82,\n",
              " 2,\n",
              " 8,\n",
              " 4,\n",
              " 107,\n",
              " 117,\n",
              " 5952,\n",
              " 15,\n",
              " 256,\n",
              " 4,\n",
              " 2,\n",
              " 7,\n",
              " 3766,\n",
              " 5,\n",
              " 723,\n",
              " 36,\n",
              " 71,\n",
              " 43,\n",
              " 530,\n",
              " 476,\n",
              " 26,\n",
              " 400,\n",
              " 317,\n",
              " 46,\n",
              " 7,\n",
              " 4,\n",
              " 2,\n",
              " 1029,\n",
              " 13,\n",
              " 104,\n",
              " 88,\n",
              " 4,\n",
              " 381,\n",
              " 15,\n",
              " 297,\n",
              " 98,\n",
              " 32,\n",
              " 2071,\n",
              " 56,\n",
              " 26,\n",
              " 141,\n",
              " 6,\n",
              " 194,\n",
              " 7486,\n",
              " 18,\n",
              " 4,\n",
              " 226,\n",
              " 22,\n",
              " 21,\n",
              " 134,\n",
              " 476,\n",
              " 26,\n",
              " 480,\n",
              " 5,\n",
              " 144,\n",
              " 30,\n",
              " 5535,\n",
              " 18,\n",
              " 51,\n",
              " 36,\n",
              " 28,\n",
              " 224,\n",
              " 92,\n",
              " 25,\n",
              " 104,\n",
              " 4,\n",
              " 226,\n",
              " 65,\n",
              " 16,\n",
              " 38,\n",
              " 1334,\n",
              " 88,\n",
              " 12,\n",
              " 16,\n",
              " 283,\n",
              " 5,\n",
              " 16,\n",
              " 4472,\n",
              " 113,\n",
              " 103,\n",
              " 32,\n",
              " 15,\n",
              " 16,\n",
              " 5345,\n",
              " 19,\n",
              " 178,\n",
              " 32]"
            ]
          },
          "metadata": {},
          "execution_count": 4
        }
      ]
    },
    {
      "cell_type": "code",
      "source": [
        "train_labels[0]"
      ],
      "metadata": {
        "colab": {
          "base_uri": "https://localhost:8080/"
        },
        "id": "76RAfkavMJqB",
        "outputId": "540fe22d-d8db-40bb-96ff-d84a2bb05f4e"
      },
      "execution_count": 5,
      "outputs": [
        {
          "output_type": "execute_result",
          "data": {
            "text/plain": [
              "1"
            ]
          },
          "metadata": {},
          "execution_count": 5
        }
      ]
    },
    {
      "cell_type": "code",
      "source": [
        "max([max(sequence) for sequence in train_data])"
      ],
      "metadata": {
        "colab": {
          "base_uri": "https://localhost:8080/"
        },
        "id": "sOuwV6ubMMNY",
        "outputId": "f30db2ab-015b-47fa-a6ca-ba4eb854b8f0"
      },
      "execution_count": 6,
      "outputs": [
        {
          "output_type": "execute_result",
          "data": {
            "text/plain": [
              "9999"
            ]
          },
          "metadata": {},
          "execution_count": 6
        }
      ]
    },
    {
      "cell_type": "code",
      "source": [
        "word_index = imdb.get_word_index()\n",
        "reverse_word_index = dict(\n",
        "    [(value, key) for (key, value) in word_index.items()])\n",
        "decoded_review = \" \".join(\n",
        "    [reverse_word_index.get(i - 3, \"?\") for i in train_data[0]])"
      ],
      "metadata": {
        "colab": {
          "base_uri": "https://localhost:8080/"
        },
        "id": "kzApEqvIMPL8",
        "outputId": "be571915-f218-4694-83a9-7a778f1cd262"
      },
      "execution_count": 7,
      "outputs": [
        {
          "output_type": "stream",
          "name": "stdout",
          "text": [
            "Downloading data from https://storage.googleapis.com/tensorflow/tf-keras-datasets/imdb_word_index.json\n",
            "1641221/1641221 [==============================] - 0s 0us/step\n"
          ]
        }
      ]
    },
    {
      "cell_type": "markdown",
      "source": [
        " Vectorize the sequences"
      ],
      "metadata": {
        "id": "aJKZgubxemcg"
      }
    },
    {
      "cell_type": "code",
      "source": [
        "import numpy as np\n",
        "def vectorize_sequences(sequences, dimension=10000):\n",
        "    results = np.zeros((len(sequences), dimension))\n",
        "    for i, sequence in enumerate(sequences):\n",
        "        for j in sequence:\n",
        "            results[i, j] = 1.\n",
        "    return results\n",
        "x_train = vectorize_sequences(train_data)\n",
        "x_test = vectorize_sequences(test_data)"
      ],
      "metadata": {
        "id": "Mu5hQ4TYMP0Q"
      },
      "execution_count": 8,
      "outputs": []
    },
    {
      "cell_type": "code",
      "source": [
        "x_train[0]"
      ],
      "metadata": {
        "colab": {
          "base_uri": "https://localhost:8080/"
        },
        "id": "RKPgp_uVMT9b",
        "outputId": "100e91ca-ce15-47e3-87e1-13662c7ee89e"
      },
      "execution_count": 9,
      "outputs": [
        {
          "output_type": "execute_result",
          "data": {
            "text/plain": [
              "array([0., 1., 1., ..., 0., 0., 0.])"
            ]
          },
          "metadata": {},
          "execution_count": 9
        }
      ]
    },
    {
      "cell_type": "code",
      "source": [
        "y_train = np.asarray(train_labels).astype(\"float32\")\n",
        "y_test = np.asarray(test_labels).astype(\"float32\")"
      ],
      "metadata": {
        "id": "9kHwufqlMajL"
      },
      "execution_count": 10,
      "outputs": []
    },
    {
      "cell_type": "code",
      "source": [
        "x_val = x_train[:10000]\n",
        "partial_x_train = x_train[10000:]\n",
        "y_val = y_train[:10000]\n",
        "partial_y_train = y_train[10000:]"
      ],
      "metadata": {
        "id": "8OjmuzoFMeXz"
      },
      "execution_count": 11,
      "outputs": []
    },
    {
      "cell_type": "markdown",
      "source": [
        "Step 1 :\n",
        "Building a three layer model by using tanh and 16 neurons"
      ],
      "metadata": {
        "id": "Cyvex1XHMoyg"
      }
    },
    {
      "cell_type": "code",
      "source": [
        "from tensorflow import keras\n",
        "from tensorflow.keras import layers\n",
        "from tensorflow.keras.layers import Dense\n",
        "\n",
        "model = keras.Sequential()\n",
        "model.add(Dense(16, activation=\"tanh\"))\n",
        "model.add(Dense(16, activation=\"tanh\"))\n",
        "model.add(Dense(1, activation=\"sigmoid\"))\n",
        "\n",
        "\n",
        "model.compile(optimizer=\"adam\",\n",
        "              loss=\"mean_squared_error\",\n",
        "              metrics=[\"accuracy\"])"
      ],
      "metadata": {
        "id": "owPk4j4uMpmb"
      },
      "execution_count": 12,
      "outputs": []
    },
    {
      "cell_type": "code",
      "source": [
        "history = model.fit(partial_x_train,\n",
        "                    partial_y_train,\n",
        "                    epochs=20,\n",
        "                    batch_size=512,\n",
        "                    validation_data=(x_val, y_val))"
      ],
      "metadata": {
        "colab": {
          "base_uri": "https://localhost:8080/"
        },
        "id": "dQ3Y_N1DMtRO",
        "outputId": "137da272-45eb-4af0-be55-64456fe3658d"
      },
      "execution_count": 13,
      "outputs": [
        {
          "output_type": "stream",
          "name": "stdout",
          "text": [
            "Epoch 1/20\n",
            "30/30 [==============================] - 4s 84ms/step - loss: 0.1600 - accuracy: 0.7939 - val_loss: 0.1078 - val_accuracy: 0.8677\n",
            "Epoch 2/20\n",
            "30/30 [==============================] - 1s 39ms/step - loss: 0.0758 - accuracy: 0.9114 - val_loss: 0.0877 - val_accuracy: 0.8840\n",
            "Epoch 3/20\n",
            "30/30 [==============================] - 1s 38ms/step - loss: 0.0500 - accuracy: 0.9458 - val_loss: 0.0877 - val_accuracy: 0.8791\n",
            "Epoch 4/20\n",
            "30/30 [==============================] - 1s 39ms/step - loss: 0.0364 - accuracy: 0.9637 - val_loss: 0.0845 - val_accuracy: 0.8822\n",
            "Epoch 5/20\n",
            "30/30 [==============================] - 1s 39ms/step - loss: 0.0258 - accuracy: 0.9778 - val_loss: 0.0879 - val_accuracy: 0.8791\n",
            "Epoch 6/20\n",
            "30/30 [==============================] - 1s 39ms/step - loss: 0.0187 - accuracy: 0.9849 - val_loss: 0.0911 - val_accuracy: 0.8769\n",
            "Epoch 7/20\n",
            "30/30 [==============================] - 1s 36ms/step - loss: 0.0139 - accuracy: 0.9897 - val_loss: 0.0941 - val_accuracy: 0.8765\n",
            "Epoch 8/20\n",
            "30/30 [==============================] - 1s 39ms/step - loss: 0.0112 - accuracy: 0.9926 - val_loss: 0.0966 - val_accuracy: 0.8742\n",
            "Epoch 9/20\n",
            "30/30 [==============================] - 1s 36ms/step - loss: 0.0091 - accuracy: 0.9934 - val_loss: 0.0991 - val_accuracy: 0.8726\n",
            "Epoch 10/20\n",
            "30/30 [==============================] - 2s 63ms/step - loss: 0.0075 - accuracy: 0.9945 - val_loss: 0.1010 - val_accuracy: 0.8712\n",
            "Epoch 11/20\n",
            "30/30 [==============================] - 2s 51ms/step - loss: 0.0066 - accuracy: 0.9950 - val_loss: 0.1026 - val_accuracy: 0.8715\n",
            "Epoch 12/20\n",
            "30/30 [==============================] - 1s 38ms/step - loss: 0.0058 - accuracy: 0.9952 - val_loss: 0.1036 - val_accuracy: 0.8702\n",
            "Epoch 13/20\n",
            "30/30 [==============================] - 1s 37ms/step - loss: 0.0052 - accuracy: 0.9957 - val_loss: 0.1046 - val_accuracy: 0.8694\n",
            "Epoch 14/20\n",
            "30/30 [==============================] - 1s 37ms/step - loss: 0.0049 - accuracy: 0.9957 - val_loss: 0.1063 - val_accuracy: 0.8691\n",
            "Epoch 15/20\n",
            "30/30 [==============================] - 1s 38ms/step - loss: 0.0047 - accuracy: 0.9959 - val_loss: 0.1071 - val_accuracy: 0.8675\n",
            "Epoch 16/20\n",
            "30/30 [==============================] - 1s 39ms/step - loss: 0.0044 - accuracy: 0.9961 - val_loss: 0.1079 - val_accuracy: 0.8669\n",
            "Epoch 17/20\n",
            "30/30 [==============================] - 1s 38ms/step - loss: 0.0043 - accuracy: 0.9961 - val_loss: 0.1087 - val_accuracy: 0.8676\n",
            "Epoch 18/20\n",
            "30/30 [==============================] - 2s 56ms/step - loss: 0.0042 - accuracy: 0.9961 - val_loss: 0.1095 - val_accuracy: 0.8669\n",
            "Epoch 19/20\n",
            "30/30 [==============================] - 1s 42ms/step - loss: 0.0040 - accuracy: 0.9963 - val_loss: 0.1099 - val_accuracy: 0.8672\n",
            "Epoch 20/20\n",
            "30/30 [==============================] - 2s 62ms/step - loss: 0.0039 - accuracy: 0.9964 - val_loss: 0.1105 - val_accuracy: 0.8670\n"
          ]
        }
      ]
    },
    {
      "cell_type": "code",
      "source": [
        "import matplotlib.pyplot as plt\n",
        "plt.clf()\n",
        "acc = history_dict[\"accuracy\"]\n",
        "val_acc = history_dict[\"val_accuracy\"]\n",
        "plt.plot(epochs, acc, \"bo\", label=\"Training acc\")\n",
        "plt.plot(epochs, val_acc, \"b\", label=\"Validation acc\")\n",
        "plt.title(\"Training and validation accuracy\")\n",
        "plt.xlabel(\"Epochs\")\n",
        "plt.ylabel(\"Accuracy\")\n",
        "plt.legend()\n",
        "plt.show()"
      ],
      "metadata": {
        "colab": {
          "base_uri": "https://localhost:8080/",
          "height": 295
        },
        "id": "OA5lm4hxMxRB",
        "outputId": "4d1f1ebe-0cb9-4f37-e2e1-e35532518279"
      },
      "execution_count": 18,
      "outputs": [
        {
          "output_type": "display_data",
          "data": {
            "text/plain": [
              "<Figure size 432x288 with 1 Axes>"
            ],
            "image/png": "[encoded data removed]"
          },
          "metadata": {
            "needs_background": "light"
          }
        }
      ]
    },
    {
      "cell_type": "markdown",
      "source": [
        "Step 2 : Add dropout and regularizers to the model, and increase the number of hidden units to 32 and 64 , using tanh activation."
      ],
      "metadata": {
        "id": "zgnsgr1XNkRT"
      }
    },
    {
      "cell_type": "code",
      "source": [
        "from tensorflow.keras.layers import Dropout\n",
        "from tensorflow.keras import regularizers\n",
        "\n",
        "\n",
        "model = keras.Sequential()\n",
        "model.add(Dense(32, activation=\"tanh\"))\n",
        "model.add(Dropout(0.5))\n",
        "model.add(Dense(32, activation=\"tanh\"))\n",
        "model.add(Dropout(0.5))\n",
        "model.add(Dense(32, activation=\"tanh\"))\n",
        "model.add(Dense(1, activation=\"sigmoid\",activity_regularizer=regularizers.L2(0.01)))\n",
        "\n",
        "\n",
        "model.compile(optimizer=\"adam\",\n",
        "              loss=\"mean_squared_error\",\n",
        "              metrics=[\"accuracy\"])\n",
        "\n",
        "history = model.fit(partial_x_train,\n",
        "                    partial_y_train,\n",
        "                    epochs=30,\n",
        "                    batch_size=512,\n",
        "                    validation_data=(x_val, y_val))"
      ],
      "metadata": {
        "colab": {
          "base_uri": "https://localhost:8080/"
        },
        "id": "RDbM99DVMvsh",
        "outputId": "971282cb-fb76-4c02-f79b-9f25ccfd5e5a"
      },
      "execution_count": 17,
      "outputs": [
        {
          "output_type": "stream",
          "name": "stdout",
          "text": [
            "Epoch 1/30\n",
            "30/30 [==============================] - 4s 103ms/step - loss: 0.1898 - accuracy: 0.7355 - val_loss: 0.1104 - val_accuracy: 0.8620\n",
            "Epoch 2/30\n",
            "30/30 [==============================] - 4s 127ms/step - loss: 0.0900 - accuracy: 0.8911 - val_loss: 0.0876 - val_accuracy: 0.8880\n",
            "Epoch 3/30\n",
            "30/30 [==============================] - 4s 149ms/step - loss: 0.0605 - accuracy: 0.9293 - val_loss: 0.0881 - val_accuracy: 0.8885\n",
            "Epoch 4/30\n",
            "30/30 [==============================] - 4s 119ms/step - loss: 0.0483 - accuracy: 0.9461 - val_loss: 0.0926 - val_accuracy: 0.8837\n",
            "Epoch 5/30\n",
            "30/30 [==============================] - 4s 126ms/step - loss: 0.0400 - accuracy: 0.9570 - val_loss: 0.0966 - val_accuracy: 0.8838\n",
            "Epoch 6/30\n",
            "30/30 [==============================] - 2s 74ms/step - loss: 0.0349 - accuracy: 0.9628 - val_loss: 0.1000 - val_accuracy: 0.8821\n",
            "Epoch 7/30\n",
            "30/30 [==============================] - 1s 47ms/step - loss: 0.0294 - accuracy: 0.9719 - val_loss: 0.1023 - val_accuracy: 0.8819\n",
            "Epoch 8/30\n",
            "30/30 [==============================] - 2s 58ms/step - loss: 0.0276 - accuracy: 0.9734 - val_loss: 0.1066 - val_accuracy: 0.8793\n",
            "Epoch 9/30\n",
            "30/30 [==============================] - 2s 59ms/step - loss: 0.0253 - accuracy: 0.9763 - val_loss: 0.1083 - val_accuracy: 0.8767\n",
            "Epoch 10/30\n",
            "30/30 [==============================] - 2s 52ms/step - loss: 0.0233 - accuracy: 0.9783 - val_loss: 0.1140 - val_accuracy: 0.8725\n",
            "Epoch 11/30\n",
            "30/30 [==============================] - 2s 59ms/step - loss: 0.0229 - accuracy: 0.9789 - val_loss: 0.1143 - val_accuracy: 0.8743\n",
            "Epoch 12/30\n",
            "30/30 [==============================] - 2s 61ms/step - loss: 0.0213 - accuracy: 0.9812 - val_loss: 0.1153 - val_accuracy: 0.8724\n",
            "Epoch 13/30\n",
            "30/30 [==============================] - 2s 79ms/step - loss: 0.0205 - accuracy: 0.9817 - val_loss: 0.1181 - val_accuracy: 0.8697\n",
            "Epoch 14/30\n",
            "30/30 [==============================] - 2s 57ms/step - loss: 0.0209 - accuracy: 0.9816 - val_loss: 0.1200 - val_accuracy: 0.8689\n",
            "Epoch 15/30\n",
            "30/30 [==============================] - 2s 61ms/step - loss: 0.0185 - accuracy: 0.9849 - val_loss: 0.1193 - val_accuracy: 0.8714\n",
            "Epoch 16/30\n",
            "30/30 [==============================] - 1s 49ms/step - loss: 0.0192 - accuracy: 0.9837 - val_loss: 0.1204 - val_accuracy: 0.8714\n",
            "Epoch 17/30\n",
            "30/30 [==============================] - 2s 58ms/step - loss: 0.0176 - accuracy: 0.9860 - val_loss: 0.1211 - val_accuracy: 0.8710\n",
            "Epoch 18/30\n",
            "30/30 [==============================] - 1s 46ms/step - loss: 0.0191 - accuracy: 0.9842 - val_loss: 0.1229 - val_accuracy: 0.8691\n",
            "Epoch 19/30\n",
            "30/30 [==============================] - 1s 46ms/step - loss: 0.0171 - accuracy: 0.9867 - val_loss: 0.1240 - val_accuracy: 0.8688\n",
            "Epoch 20/30\n",
            "30/30 [==============================] - 2s 74ms/step - loss: 0.0171 - accuracy: 0.9861 - val_loss: 0.1247 - val_accuracy: 0.8680\n",
            "Epoch 21/30\n",
            "30/30 [==============================] - 2s 57ms/step - loss: 0.0168 - accuracy: 0.9870 - val_loss: 0.1259 - val_accuracy: 0.8673\n",
            "Epoch 22/30\n",
            "30/30 [==============================] - 2s 58ms/step - loss: 0.0169 - accuracy: 0.9861 - val_loss: 0.1264 - val_accuracy: 0.8676\n",
            "Epoch 23/30\n",
            "30/30 [==============================] - 2s 51ms/step - loss: 0.0162 - accuracy: 0.9876 - val_loss: 0.1269 - val_accuracy: 0.8655\n",
            "Epoch 24/30\n",
            "30/30 [==============================] - 1s 48ms/step - loss: 0.0162 - accuracy: 0.9878 - val_loss: 0.1259 - val_accuracy: 0.8679\n",
            "Epoch 25/30\n",
            "30/30 [==============================] - 1s 47ms/step - loss: 0.0172 - accuracy: 0.9855 - val_loss: 0.1261 - val_accuracy: 0.8679\n",
            "Epoch 26/30\n",
            "30/30 [==============================] - 1s 48ms/step - loss: 0.0161 - accuracy: 0.9879 - val_loss: 0.1288 - val_accuracy: 0.8646\n",
            "Epoch 27/30\n",
            "30/30 [==============================] - 1s 46ms/step - loss: 0.0149 - accuracy: 0.9892 - val_loss: 0.1277 - val_accuracy: 0.8667\n",
            "Epoch 28/30\n",
            "30/30 [==============================] - 2s 72ms/step - loss: 0.0151 - accuracy: 0.9888 - val_loss: 0.1277 - val_accuracy: 0.8664\n",
            "Epoch 29/30\n",
            "30/30 [==============================] - 2s 70ms/step - loss: 0.0150 - accuracy: 0.9887 - val_loss: 0.1281 - val_accuracy: 0.8660\n",
            "Epoch 30/30\n",
            "30/30 [==============================] - 1s 46ms/step - loss: 0.0145 - accuracy: 0.9896 - val_loss: 0.1275 - val_accuracy: 0.8658\n"
          ]
        }
      ]
    },
    {
      "cell_type": "code",
      "source": [
        "history_dict = history.history\n",
        "history_dict.keys()"
      ],
      "metadata": {
        "colab": {
          "base_uri": "https://localhost:8080/"
        },
        "id": "0Yi8OZ8lN1X-",
        "outputId": "bfb93a81-20cc-492d-b059-6b2377c5be3e"
      },
      "execution_count": 16,
      "outputs": [
        {
          "output_type": "execute_result",
          "data": {
            "text/plain": [
              "dict_keys(['loss', 'accuracy', 'val_loss', 'val_accuracy'])"
            ]
          },
          "metadata": {},
          "execution_count": 16
        }
      ]
    },
    {
      "cell_type": "code",
      "source": [
        "import matplotlib.pyplot as plt\n",
        "history_dict = history.history\n",
        "loss_values = history_dict[\"loss\"]\n",
        "val_loss_values = history_dict[\"val_loss\"]\n",
        "epochs = range(1, len(loss_values) + 1)\n",
        "plt.plot(epochs, loss_values, \"bo\", label=\"Training loss\")\n",
        "plt.plot(epochs, val_loss_values, \"b\", label=\"Validation loss\")\n",
        "plt.title(\"Training and validation loss\")\n",
        "plt.xlabel(\"Epochs\")\n",
        "plt.ylabel(\"Loss\")\n",
        "plt.legend()\n",
        "plt.show()"
      ],
      "metadata": {
        "colab": {
          "base_uri": "https://localhost:8080/",
          "height": 295
        },
        "id": "ggD0WXtTN6PI",
        "outputId": "65930e95-31fc-412f-bd91-44d8e9c5c309"
      },
      "execution_count": 15,
      "outputs": [
        {
          "output_type": "display_data",
          "data": {
            "text/plain": [
              "<Figure size 432x288 with 1 Axes>"
            ],
            "image/png": "[encoded data removed]"
          },
          "metadata": {
            "needs_background": "light"
          }
        }
      ]
    },
    {
      "cell_type": "code",
      "source": [
        "plt.clf()\n",
        "acc = history_dict[\"accuracy\"]\n",
        "val_acc = history_dict[\"val_accuracy\"]\n",
        "plt.plot(epochs, acc, \"bo\", label=\"Training acc\")\n",
        "plt.plot(epochs, val_acc, \"b\", label=\"Validation acc\")\n",
        "plt.title(\"Training and validation accuracy\")\n",
        "plt.xlabel(\"Epochs\")\n",
        "plt.ylabel(\"Accuracy\")\n",
        "plt.legend()\n",
        "plt.show()"
      ],
      "metadata": {
        "colab": {
          "base_uri": "https://localhost:8080/",
          "height": 295
        },
        "id": "Emn5tghiN-nA",
        "outputId": "1d529efb-3314-40b1-b857-ae5831e16bcb"
      },
      "execution_count": 19,
      "outputs": [
        {
          "output_type": "display_data",
          "data": {
            "text/plain": [
              "<Figure size 432x288 with 1 Axes>"
            ],
            "image/png": "[encoded data removed]"
          },
          "metadata": {
            "needs_background": "light"
          }
        }
      ]
    },
    {
      "cell_type": "code",
      "source": [
        "from tensorflow.keras.layers import Dropout\n",
        "from tensorflow.keras import regularizers\n",
        "\n",
        "\n",
        "model = keras.Sequential()\n",
        "model.add(Dense(64, activation=\"tanh\"))\n",
        "model.add(Dropout(0.5))\n",
        "model.add(Dense(64, activation=\"tanh\"))\n",
        "model.add(Dense(64, activation=\"tanh\"))\n",
        "model.add(Dense(64, activation=\"tanh\",activity_regularizer=regularizers.L2(0.01)))\n",
        "model.add(Dropout(0.5))\n",
        "model.add(Dense(64, activation=\"tanh\"))\n",
        "model.add(Dense(64, activation=\"tanh\"))\n",
        "model.add(Dense(1, activation=\"sigmoid\"))\n",
        "\n",
        "\n",
        "model.compile(optimizer=\"adam\",\n",
        "              loss=\"mean_squared_error\",\n",
        "              metrics=[\"accuracy\"])\n",
        "\n",
        "history = model.fit(partial_x_train,\n",
        "                    partial_y_train,\n",
        "                    epochs=30,\n",
        "                    batch_size=512,\n",
        "                    validation_data=(x_val, y_val))"
      ],
      "metadata": {
        "colab": {
          "base_uri": "https://localhost:8080/"
        },
        "id": "7wJqxzhXOFI-",
        "outputId": "5c281568-ef68-482c-dba8-9caaddfa5169"
      },
      "execution_count": 20,
      "outputs": [
        {
          "output_type": "stream",
          "name": "stdout",
          "text": [
            "Epoch 1/30\n",
            "30/30 [==============================] - 5s 117ms/step - loss: 0.1722 - accuracy: 0.7892 - val_loss: 0.1035 - val_accuracy: 0.8802\n",
            "Epoch 2/30\n",
            "30/30 [==============================] - 2s 70ms/step - loss: 0.0854 - accuracy: 0.9136 - val_loss: 0.0987 - val_accuracy: 0.8812\n",
            "Epoch 3/30\n",
            "30/30 [==============================] - 3s 111ms/step - loss: 0.0615 - accuracy: 0.9377 - val_loss: 0.0989 - val_accuracy: 0.8766\n",
            "Epoch 4/30\n",
            "30/30 [==============================] - 2s 73ms/step - loss: 0.0493 - accuracy: 0.9497 - val_loss: 0.1012 - val_accuracy: 0.8760\n",
            "Epoch 5/30\n",
            "30/30 [==============================] - 3s 98ms/step - loss: 0.0392 - accuracy: 0.9615 - val_loss: 0.1059 - val_accuracy: 0.8730\n",
            "Epoch 6/30\n",
            "30/30 [==============================] - 2s 70ms/step - loss: 0.0351 - accuracy: 0.9647 - val_loss: 0.1077 - val_accuracy: 0.8704\n",
            "Epoch 7/30\n",
            "30/30 [==============================] - 2s 68ms/step - loss: 0.0299 - accuracy: 0.9704 - val_loss: 0.1129 - val_accuracy: 0.8701\n",
            "Epoch 8/30\n",
            "30/30 [==============================] - 3s 108ms/step - loss: 0.0276 - accuracy: 0.9723 - val_loss: 0.1246 - val_accuracy: 0.8602\n",
            "Epoch 9/30\n",
            "30/30 [==============================] - 2s 81ms/step - loss: 0.0264 - accuracy: 0.9735 - val_loss: 0.1215 - val_accuracy: 0.8643\n",
            "Epoch 10/30\n",
            "30/30 [==============================] - 2s 68ms/step - loss: 0.0239 - accuracy: 0.9762 - val_loss: 0.1185 - val_accuracy: 0.8670\n",
            "Epoch 11/30\n",
            "30/30 [==============================] - 2s 69ms/step - loss: 0.0226 - accuracy: 0.9776 - val_loss: 0.1204 - val_accuracy: 0.8670\n",
            "Epoch 12/30\n",
            "30/30 [==============================] - 2s 74ms/step - loss: 0.0209 - accuracy: 0.9806 - val_loss: 0.1213 - val_accuracy: 0.8652\n",
            "Epoch 13/30\n",
            "30/30 [==============================] - 3s 113ms/step - loss: 0.0199 - accuracy: 0.9805 - val_loss: 0.1219 - val_accuracy: 0.8673\n",
            "Epoch 14/30\n",
            "30/30 [==============================] - 3s 95ms/step - loss: 0.0183 - accuracy: 0.9829 - val_loss: 0.1232 - val_accuracy: 0.8647\n",
            "Epoch 15/30\n",
            "30/30 [==============================] - 2s 76ms/step - loss: 0.0179 - accuracy: 0.9827 - val_loss: 0.1247 - val_accuracy: 0.8643\n",
            "Epoch 16/30\n",
            "30/30 [==============================] - 2s 76ms/step - loss: 0.0176 - accuracy: 0.9826 - val_loss: 0.1242 - val_accuracy: 0.8635\n",
            "Epoch 17/30\n",
            "30/30 [==============================] - 2s 69ms/step - loss: 0.0196 - accuracy: 0.9801 - val_loss: 0.1271 - val_accuracy: 0.8616\n",
            "Epoch 18/30\n",
            "30/30 [==============================] - 2s 77ms/step - loss: 0.0184 - accuracy: 0.9815 - val_loss: 0.1275 - val_accuracy: 0.8604\n",
            "Epoch 19/30\n",
            "30/30 [==============================] - 3s 113ms/step - loss: 0.0173 - accuracy: 0.9831 - val_loss: 0.1264 - val_accuracy: 0.8630\n",
            "Epoch 20/30\n",
            "30/30 [==============================] - 2s 75ms/step - loss: 0.0166 - accuracy: 0.9841 - val_loss: 0.1272 - val_accuracy: 0.8628\n",
            "Epoch 21/30\n",
            "30/30 [==============================] - 2s 68ms/step - loss: 0.0148 - accuracy: 0.9858 - val_loss: 0.1258 - val_accuracy: 0.8625\n",
            "Epoch 22/30\n",
            "30/30 [==============================] - 2s 72ms/step - loss: 0.0160 - accuracy: 0.9842 - val_loss: 0.1273 - val_accuracy: 0.8623\n",
            "Epoch 23/30\n",
            "30/30 [==============================] - 2s 73ms/step - loss: 0.0176 - accuracy: 0.9831 - val_loss: 0.1332 - val_accuracy: 0.8626\n",
            "Epoch 24/30\n",
            "30/30 [==============================] - 3s 117ms/step - loss: 0.0162 - accuracy: 0.9843 - val_loss: 0.1259 - val_accuracy: 0.8650\n",
            "Epoch 25/30\n",
            "30/30 [==============================] - 2s 77ms/step - loss: 0.0168 - accuracy: 0.9834 - val_loss: 0.1265 - val_accuracy: 0.8655\n",
            "Epoch 26/30\n",
            "30/30 [==============================] - 2s 76ms/step - loss: 0.0156 - accuracy: 0.9844 - val_loss: 0.1312 - val_accuracy: 0.8600\n",
            "Epoch 27/30\n",
            "30/30 [==============================] - 2s 68ms/step - loss: 0.0157 - accuracy: 0.9852 - val_loss: 0.1307 - val_accuracy: 0.8612\n",
            "Epoch 28/30\n",
            "30/30 [==============================] - 2s 75ms/step - loss: 0.0141 - accuracy: 0.9863 - val_loss: 0.1303 - val_accuracy: 0.8610\n",
            "Epoch 29/30\n",
            "30/30 [==============================] - 3s 110ms/step - loss: 0.0137 - accuracy: 0.9867 - val_loss: 0.1319 - val_accuracy: 0.8612\n",
            "Epoch 30/30\n",
            "30/30 [==============================] - 2s 71ms/step - loss: 0.0149 - accuracy: 0.9854 - val_loss: 0.1310 - val_accuracy: 0.8624\n"
          ]
        }
      ]
    },
    {
      "cell_type": "code",
      "source": [
        "plt.clf()\n",
        "acc = history_dict[\"accuracy\"]\n",
        "val_acc = history_dict[\"val_accuracy\"]\n",
        "plt.plot(epochs, acc, \"bo\", label=\"Training acc\")\n",
        "plt.plot(epochs, val_acc, \"b\", label=\"Validation acc\")\n",
        "plt.title(\"Training and validation accuracy\")\n",
        "plt.xlabel(\"Epochs\")\n",
        "plt.ylabel(\"Accuracy\")\n",
        "plt.legend()\n",
        "plt.show()"
      ],
      "metadata": {
        "colab": {
          "base_uri": "https://localhost:8080/",
          "height": 295
        },
        "id": "XoB0Y7VgOI33",
        "outputId": "71f41516-f8e5-4f9c-a613-4276fc64861e"
      },
      "execution_count": 21,
      "outputs": [
        {
          "output_type": "display_data",
          "data": {
            "text/plain": [
              "<Figure size 432x288 with 1 Axes>"
            ],
            "image/png": "[encoded data removed]"
          },
          "metadata": {
            "needs_background": "light"
          }
        }
      ]
    }
  ]
}